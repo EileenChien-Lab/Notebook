{
 "cells": [
  {
   "cell_type": "markdown",
   "metadata": {},
   "source": [
    "# Bye Bye DAM\n",
    "## Import package"
   ]
  },
  {
   "cell_type": "code",
   "execution_count": 191,
   "metadata": {},
   "outputs": [],
   "source": [
    "## Package\n",
    "from PIL import Image\n",
    "from datetime import datetime\n",
    "import random, os, sys, glob\n",
    "import pandas as pd\n",
    "import numpy as np\n",
    "import cv2 as cv\n",
    "import matplotlib.pyplot as plt\n",
    "module_path = os.path.abspath(os.path.join(os.pardir, os.pardir))\n",
    "if module_path not in sys.path:\n",
    "    sys.path.append(module_path)\n",
    "import util\n",
    "from util.preprocess import *\n",
    "import shutil"
   ]
  },
  {
   "cell_type": "markdown",
   "metadata": {},
   "source": [
    "## Setting Parameters"
   ]
  },
  {
   "cell_type": "code",
   "execution_count": 182,
   "metadata": {},
   "outputs": [
    {
     "name": "stdout",
     "output_type": "stream",
     "text": [
      "OK:  3092\n",
      "NG:  4323\n"
     ]
    }
   ],
   "source": [
    "## Read Image and csv\n",
    "### GBR File\n",
    "crop = Image.open('/home/sasdemo01/data/gbr/1227/5143b69c01-uts+1_CompSideUnit.bmp')\n",
    "\n",
    "### Rotate GBR\n",
    "crop = np.array(crop.rotate(180))\n",
    "max_y = crop.shape[0]\n",
    "max_x = crop.shape[1]\n",
    "\n",
    "### UnitX UnitY 對應位置\n",
    "mapcsv = pd.read_csv('/home/sasdemo01/data/gbr/0212/S1_5143_T_SR1+DAM_OSP+SOP_01_01_對應位置.csv')\n",
    "\n",
    "### Original Image Path\n",
    "#### If Multi_folde=False \n",
    "#####-> Path = Single folder (with child folder NG/OK)\n",
    "#### If Multi_folde=True \n",
    "#####-> Path = Mother folder (with multiple child folders)\n",
    "path = \"/home/sasdemo01/data/Unimicron_S1_AVI_Machvision/0212/S1_5143_T_SR1+DAM_OSP+SOP_01_01\"\n",
    "\n",
    "\n",
    "## Set the parameters\n",
    "\n",
    "### Scale => um/pixel\n",
    "scale = 4\n",
    "\n",
    "## X_offset => mm\n",
    "## Y_offset => mm\n",
    "X_offset = 0\n",
    "Y_offset = 0\n",
    "\n",
    "### Gbr size(1 Unit) => mm\n",
    "gbrsize = 16.509\n",
    "\n",
    "### how many images show in example (for chck the rule)\n",
    "num = 50\n",
    "\n",
    "## Count the training data\n",
    "aviimagedir, dirs, files = next(os.walk(path+\"/NG\"))\n",
    "NG_count = len(files)\n",
    "aviimagedir, dirs, files = next(os.walk(path+\"/OK\"))\n",
    "OK_count = len(files)\n",
    "\n",
    "print(\"OK: \", OK_count)\n",
    "print(\"NG: \", NG_count)\n",
    "\n",
    "Training_Folder=\"/home/sasdemo01/data/Unimicron_S1_AVI_Machvision/0212/S1_5143_T_SR1+DAM_OSP+SOP_01_01/\"\n",
    "\n",
    "Train_no_DAM=\"/home/sasdemo01/data/Unimicron_S1_AVI_Machvision/0212/S1_5143_T_SR1+DAM_OSP+SOP_01_01_NODAM/\""
   ]
  },
  {
   "cell_type": "code",
   "execution_count": 170,
   "metadata": {},
   "outputs": [
    {
     "data": {
      "text/plain": [
       "(5501, 5503)"
      ]
     },
     "execution_count": 170,
     "metadata": {},
     "output_type": "execute_result"
    }
   ],
   "source": [
    "crop.shape"
   ]
  },
  {
   "cell_type": "markdown",
   "metadata": {},
   "source": [
    "# DAM area by pixel"
   ]
  },
  {
   "cell_type": "code",
   "execution_count": 171,
   "metadata": {},
   "outputs": [
    {
     "data": {
      "image/png": "[encoded data removed]",
      "text/plain": [
       "<Figure size 1440x576 with 4 Axes>"
      ]
     },
     "metadata": {
      "needs_background": "light"
     },
     "output_type": "display_data"
    }
   ],
   "source": [
    "y1_p=620\n",
    "y2_p=4870\n",
    "x1_p=630\n",
    "x2_p=4870\n",
    "band_p=150\n",
    "\n",
    "fig=plt.figure(figsize=(20,8))\n",
    "columns = 4\n",
    "rows = 1\n",
    "for i in range(1,columns*rows +1):\n",
    "    fig.add_subplot(rows, columns, i)\n",
    "    if i == 1:\n",
    "        plt.imshow(crop[y1_p:y2_p,x1_p:x1_p+band_p],cmap='gray')\n",
    "    elif i == 2:\n",
    "        plt.imshow(crop[y1_p:y2_p,x2_p-band_p:x2_p],cmap='gray')\n",
    "    elif i == 3:\n",
    "        plt.imshow(crop[y1_p:y1_p+band_p,x1_p:x2_p],cmap='gray')\n",
    "    elif i == 4:\n",
    "        plt.imshow(crop[y2_p-band_p:y2_p,x1_p:x2_p],cmap='gray')\n",
    "plt.show()"
   ]
  },
  {
   "cell_type": "markdown",
   "metadata": {},
   "source": [
    "# DAM area by unit (X,Y)"
   ]
  },
  {
   "cell_type": "code",
   "execution_count": 172,
   "metadata": {},
   "outputs": [],
   "source": [
    "y1_u=y1_p/crop.shape[0]*gbrsize+Y_offset\n",
    "y2_u=y2_p/crop.shape[0]*gbrsize+Y_offset\n",
    "x1_u=x1_p/crop.shape[1]*gbrsize+X_offset\n",
    "x2_u=x2_p/crop.shape[1]*gbrsize+X_offset\n",
    "band_u=band_p/crop.shape[0]*gbrsize+Y_offset\n"
   ]
  },
  {
   "cell_type": "code",
   "execution_count": 173,
   "metadata": {},
   "outputs": [
    {
     "name": "stdout",
     "output_type": "stream",
     "text": [
      "1.8606762406835122 14.615311761497908 1.89 14.610000000000001 0.45016360661697874\n"
     ]
    }
   ],
   "source": [
    "print(y1_u,y2_u,x1_u,x2_u,band_u)"
   ]
  },
  {
   "cell_type": "markdown",
   "metadata": {},
   "source": [
    "# Find AVI photos near DAM with csv and DAM area by unit(X,Y)"
   ]
  },
  {
   "cell_type": "code",
   "execution_count": 174,
   "metadata": {},
   "outputs": [
    {
     "name": "stderr",
     "output_type": "stream",
     "text": [
      "/home/sasdemo01/anaconda3/envs/py3_6_6/lib/python3.6/site-packages/ipykernel_launcher.py:8: SettingWithCopyWarning: \n",
      "A value is trying to be set on a copy of a slice from a DataFrame\n",
      "\n",
      "See the caveats in the documentation: http://pandas.pydata.org/pandas-docs/stable/user_guide/indexing.html#returning-a-view-versus-a-copy\n",
      "  \n",
      "/home/sasdemo01/anaconda3/envs/py3_6_6/lib/python3.6/site-packages/ipykernel_launcher.py:6: SettingWithCopyWarning: \n",
      "A value is trying to be set on a copy of a slice from a DataFrame\n",
      "\n",
      "See the caveats in the documentation: http://pandas.pydata.org/pandas-docs/stable/user_guide/indexing.html#returning-a-view-versus-a-copy\n",
      "  \n",
      "/home/sasdemo01/anaconda3/envs/py3_6_6/lib/python3.6/site-packages/ipykernel_launcher.py:4: SettingWithCopyWarning: \n",
      "A value is trying to be set on a copy of a slice from a DataFrame\n",
      "\n",
      "See the caveats in the documentation: http://pandas.pydata.org/pandas-docs/stable/user_guide/indexing.html#returning-a-view-versus-a-copy\n",
      "  after removing the cwd from sys.path.\n",
      "/home/sasdemo01/anaconda3/envs/py3_6_6/lib/python3.6/site-packages/ipykernel_launcher.py:10: SettingWithCopyWarning: \n",
      "A value is trying to be set on a copy of a slice from a DataFrame\n",
      "\n",
      "See the caveats in the documentation: http://pandas.pydata.org/pandas-docs/stable/user_guide/indexing.html#returning-a-view-versus-a-copy\n",
      "  # Remove the CWD from sys.path while we load stuff.\n"
     ]
    }
   ],
   "source": [
    "mapcsv['DAM']=''\n",
    "for i in range(len(mapcsv)):\n",
    "    if  mapcsv.Unit_Xvalue[i]>=x1_u and mapcsv.Unit_Xvalue[i]<=x1_u+band_u and mapcsv.Unit_Yvalue[i]>=y1_u and mapcsv.Unit_Yvalue[i]<=y2_u:\n",
    "        mapcsv.DAM[i]=\"Left\"\n",
    "    elif mapcsv.Unit_Xvalue[i]<=x2_u and mapcsv.Unit_Xvalue[i]>=x2_u-band_u and mapcsv.Unit_Yvalue[i]>=y1_u and mapcsv.Unit_Yvalue[i]<=y2_u:\n",
    "        mapcsv.DAM[i]=\"Right\"\n",
    "    elif mapcsv.Unit_Xvalue[i]>=x1_u and mapcsv.Unit_Xvalue[i]<=x2_u and mapcsv.Unit_Yvalue[i]>=y1_u and mapcsv.Unit_Yvalue[i]<=y1_u+band_u:\n",
    "        mapcsv.DAM[i]=\"Up\"\n",
    "    elif (mapcsv.Unit_Xvalue[i]>=x1_u and mapcsv.Unit_Xvalue[i]<=x2_u and mapcsv.Unit_Yvalue[i]<=y2_u and mapcsv.Unit_Yvalue[i]>=y2_u-band_u):\n",
    "        mapcsv.DAM[i]=\"Low\"\n",
    " "
   ]
  },
  {
   "cell_type": "code",
   "execution_count": 175,
   "metadata": {},
   "outputs": [
    {
     "data": {
      "text/html": [
       "<div>\n",
       "<style scoped>\n",
       "    .dataframe tbody tr th:only-of-type {\n",
       "        vertical-align: middle;\n",
       "    }\n",
       "\n",
       "    .dataframe tbody tr th {\n",
       "        vertical-align: top;\n",
       "    }\n",
       "\n",
       "    .dataframe thead th {\n",
       "        text-align: right;\n",
       "    }\n",
       "</style>\n",
       "<table border=\"1\" class=\"dataframe\">\n",
       "  <thead>\n",
       "    <tr style=\"text-align: right;\">\n",
       "      <th></th>\n",
       "      <th>image_path</th>\n",
       "      <th>LotNum</th>\n",
       "      <th>Side</th>\n",
       "      <th>Step_Xvalue</th>\n",
       "      <th>Step_Yvalue</th>\n",
       "      <th>Unit_Xvalue</th>\n",
       "      <th>Unit_Yvalue</th>\n",
       "      <th>Machine</th>\n",
       "      <th>DAM</th>\n",
       "    </tr>\n",
       "  </thead>\n",
       "  <tbody>\n",
       "    <tr>\n",
       "      <td>0</td>\n",
       "      <td>CSPAFI#4_198G2079-02-000_1_NG001_Panel0009_Pro...</td>\n",
       "      <td>198G2079-02-00</td>\n",
       "      <td>C</td>\n",
       "      <td>36.320</td>\n",
       "      <td>87.076</td>\n",
       "      <td>11.456</td>\n",
       "      <td>2.052</td>\n",
       "      <td>CSPAFI#4</td>\n",
       "      <td>Up</td>\n",
       "    </tr>\n",
       "    <tr>\n",
       "      <td>1</td>\n",
       "      <td>CSPAFI#4_198G2079-02-000_1_NG001_Panel0009_Pro...</td>\n",
       "      <td>198G2079-02-00</td>\n",
       "      <td>C</td>\n",
       "      <td>23.984</td>\n",
       "      <td>170.820</td>\n",
       "      <td>14.608</td>\n",
       "      <td>14.116</td>\n",
       "      <td>CSPAFI#4</td>\n",
       "      <td>Right</td>\n",
       "    </tr>\n",
       "    <tr>\n",
       "      <td>2</td>\n",
       "      <td>CSPAFI#4_198G2079-02-000_1_NG001_Panel0015_Pro...</td>\n",
       "      <td>198G2079-02-00</td>\n",
       "      <td>C</td>\n",
       "      <td>12.640</td>\n",
       "      <td>111.932</td>\n",
       "      <td>3.264</td>\n",
       "      <td>11.420</td>\n",
       "      <td>CSPAFI#4</td>\n",
       "      <td></td>\n",
       "    </tr>\n",
       "    <tr>\n",
       "      <td>3</td>\n",
       "      <td>CSPAFI#4_198G2079-02-000_1_NG001_Panel0015_Pro...</td>\n",
       "      <td>198G2079-02-00</td>\n",
       "      <td>C</td>\n",
       "      <td>24.584</td>\n",
       "      <td>226.464</td>\n",
       "      <td>15.208</td>\n",
       "      <td>7.744</td>\n",
       "      <td>CSPAFI#4</td>\n",
       "      <td></td>\n",
       "    </tr>\n",
       "    <tr>\n",
       "      <td>4</td>\n",
       "      <td>CSPAFI#4_198G2079-02-000_1_NG001_Panel0022_Pro...</td>\n",
       "      <td>198G2079-02-00</td>\n",
       "      <td>C</td>\n",
       "      <td>82.248</td>\n",
       "      <td>168.472</td>\n",
       "      <td>10.888</td>\n",
       "      <td>11.768</td>\n",
       "      <td>CSPAFI#4</td>\n",
       "      <td></td>\n",
       "    </tr>\n",
       "  </tbody>\n",
       "</table>\n",
       "</div>"
      ],
      "text/plain": [
       "                                          image_path          LotNum Side  \\\n",
       "0  CSPAFI#4_198G2079-02-000_1_NG001_Panel0009_Pro...  198G2079-02-00    C   \n",
       "1  CSPAFI#4_198G2079-02-000_1_NG001_Panel0009_Pro...  198G2079-02-00    C   \n",
       "2  CSPAFI#4_198G2079-02-000_1_NG001_Panel0015_Pro...  198G2079-02-00    C   \n",
       "3  CSPAFI#4_198G2079-02-000_1_NG001_Panel0015_Pro...  198G2079-02-00    C   \n",
       "4  CSPAFI#4_198G2079-02-000_1_NG001_Panel0022_Pro...  198G2079-02-00    C   \n",
       "\n",
       "   Step_Xvalue  Step_Yvalue  Unit_Xvalue  Unit_Yvalue   Machine    DAM  \n",
       "0       36.320       87.076       11.456        2.052  CSPAFI#4     Up  \n",
       "1       23.984      170.820       14.608       14.116  CSPAFI#4  Right  \n",
       "2       12.640      111.932        3.264       11.420  CSPAFI#4         \n",
       "3       24.584      226.464       15.208        7.744  CSPAFI#4         \n",
       "4       82.248      168.472       10.888       11.768  CSPAFI#4         "
      ]
     },
     "execution_count": 175,
     "metadata": {},
     "output_type": "execute_result"
    }
   ],
   "source": [
    "mapcsv.head()"
   ]
  },
  {
   "cell_type": "code",
   "execution_count": 176,
   "metadata": {},
   "outputs": [],
   "source": [
    "mapcsv_dam = mapcsv[mapcsv['DAM']!='']"
   ]
  },
  {
   "cell_type": "code",
   "execution_count": 177,
   "metadata": {},
   "outputs": [],
   "source": [
    "mapcsv_dam = mapcsv_dam.reset_index(drop=True)"
   ]
  },
  {
   "cell_type": "code",
   "execution_count": 178,
   "metadata": {},
   "outputs": [
    {
     "data": {
      "text/html": [
       "<div>\n",
       "<style scoped>\n",
       "    .dataframe tbody tr th:only-of-type {\n",
       "        vertical-align: middle;\n",
       "    }\n",
       "\n",
       "    .dataframe tbody tr th {\n",
       "        vertical-align: top;\n",
       "    }\n",
       "\n",
       "    .dataframe thead th {\n",
       "        text-align: right;\n",
       "    }\n",
       "</style>\n",
       "<table border=\"1\" class=\"dataframe\">\n",
       "  <thead>\n",
       "    <tr style=\"text-align: right;\">\n",
       "      <th></th>\n",
       "      <th>image_path</th>\n",
       "      <th>LotNum</th>\n",
       "      <th>Side</th>\n",
       "      <th>Step_Xvalue</th>\n",
       "      <th>Step_Yvalue</th>\n",
       "      <th>Unit_Xvalue</th>\n",
       "      <th>Unit_Yvalue</th>\n",
       "      <th>Machine</th>\n",
       "      <th>DAM</th>\n",
       "    </tr>\n",
       "  </thead>\n",
       "  <tbody>\n",
       "    <tr>\n",
       "      <td>0</td>\n",
       "      <td>CSPAFI#4_198G2079-02-000_1_NG001_Panel0009_Pro...</td>\n",
       "      <td>198G2079-02-00</td>\n",
       "      <td>C</td>\n",
       "      <td>36.320</td>\n",
       "      <td>87.076</td>\n",
       "      <td>11.456</td>\n",
       "      <td>2.052</td>\n",
       "      <td>CSPAFI#4</td>\n",
       "      <td>Up</td>\n",
       "    </tr>\n",
       "    <tr>\n",
       "      <td>1</td>\n",
       "      <td>CSPAFI#4_198G2079-02-000_1_NG001_Panel0009_Pro...</td>\n",
       "      <td>198G2079-02-00</td>\n",
       "      <td>C</td>\n",
       "      <td>23.984</td>\n",
       "      <td>170.820</td>\n",
       "      <td>14.608</td>\n",
       "      <td>14.116</td>\n",
       "      <td>CSPAFI#4</td>\n",
       "      <td>Right</td>\n",
       "    </tr>\n",
       "    <tr>\n",
       "      <td>2</td>\n",
       "      <td>CSPAFI#4_198G2079-02-000_1_NG003_Panel0009_Pro...</td>\n",
       "      <td>198G2079-02-00</td>\n",
       "      <td>C</td>\n",
       "      <td>53.152</td>\n",
       "      <td>9.584</td>\n",
       "      <td>12.800</td>\n",
       "      <td>2.064</td>\n",
       "      <td>CSPAFI#4</td>\n",
       "      <td>Up</td>\n",
       "    </tr>\n",
       "    <tr>\n",
       "      <td>3</td>\n",
       "      <td>CSPAFI#4_198G2079-02-000_1_NG003_Panel0009_Pro...</td>\n",
       "      <td>198G2079-02-00</td>\n",
       "      <td>C</td>\n",
       "      <td>11.320</td>\n",
       "      <td>9.620</td>\n",
       "      <td>1.944</td>\n",
       "      <td>2.100</td>\n",
       "      <td>CSPAFI#4</td>\n",
       "      <td>Left</td>\n",
       "    </tr>\n",
       "    <tr>\n",
       "      <td>4</td>\n",
       "      <td>CSPAFI#4_198G2079-02-000_1_NG003_Panel0009_Pro...</td>\n",
       "      <td>198G2079-02-00</td>\n",
       "      <td>C</td>\n",
       "      <td>11.324</td>\n",
       "      <td>182.272</td>\n",
       "      <td>1.948</td>\n",
       "      <td>10.048</td>\n",
       "      <td>CSPAFI#4</td>\n",
       "      <td>Left</td>\n",
       "    </tr>\n",
       "    <tr>\n",
       "      <td>...</td>\n",
       "      <td>...</td>\n",
       "      <td>...</td>\n",
       "      <td>...</td>\n",
       "      <td>...</td>\n",
       "      <td>...</td>\n",
       "      <td>...</td>\n",
       "      <td>...</td>\n",
       "      <td>...</td>\n",
       "      <td>...</td>\n",
       "    </tr>\n",
       "    <tr>\n",
       "      <td>2683</td>\n",
       "      <td>CSPAFI-C#1_198N2108-01-000_1_NG010_Panel0019_P...</td>\n",
       "      <td>198N2108-01-00</td>\n",
       "      <td>C</td>\n",
       "      <td>31.228</td>\n",
       "      <td>24.948</td>\n",
       "      <td>6.364</td>\n",
       "      <td>1.940</td>\n",
       "      <td>CSPAFI-C#1</td>\n",
       "      <td>Up</td>\n",
       "    </tr>\n",
       "    <tr>\n",
       "      <td>2684</td>\n",
       "      <td>CSPAFI-C#1_198N2108-01-000_1_NG011_Panel0004_P...</td>\n",
       "      <td>198N2108-01-00</td>\n",
       "      <td>C</td>\n",
       "      <td>27.000</td>\n",
       "      <td>220.620</td>\n",
       "      <td>2.136</td>\n",
       "      <td>1.900</td>\n",
       "      <td>CSPAFI-C#1</td>\n",
       "      <td>Left</td>\n",
       "    </tr>\n",
       "    <tr>\n",
       "      <td>2685</td>\n",
       "      <td>CSPAFI-C#1_198N2108-01-000_1_NG011_Panel0019_P...</td>\n",
       "      <td>198N2108-01-00</td>\n",
       "      <td>C</td>\n",
       "      <td>32.592</td>\n",
       "      <td>9.464</td>\n",
       "      <td>7.728</td>\n",
       "      <td>1.944</td>\n",
       "      <td>CSPAFI-C#1</td>\n",
       "      <td>Up</td>\n",
       "    </tr>\n",
       "    <tr>\n",
       "      <td>2686</td>\n",
       "      <td>CSPAFI-C#1_198S2028-02-000_1_NG001_Panel0008_P...</td>\n",
       "      <td>198S2028-02-00</td>\n",
       "      <td>C</td>\n",
       "      <td>38.516</td>\n",
       "      <td>21.848</td>\n",
       "      <td>13.652</td>\n",
       "      <td>14.328</td>\n",
       "      <td>CSPAFI-C#1</td>\n",
       "      <td>Low</td>\n",
       "    </tr>\n",
       "    <tr>\n",
       "      <td>2687</td>\n",
       "      <td>CSPAFI-C#1_198S2028-02-000_1_NG001_Panel0015_P...</td>\n",
       "      <td>198S2028-02-00</td>\n",
       "      <td>C</td>\n",
       "      <td>73.292</td>\n",
       "      <td>130.824</td>\n",
       "      <td>1.932</td>\n",
       "      <td>5.096</td>\n",
       "      <td>CSPAFI-C#1</td>\n",
       "      <td>Left</td>\n",
       "    </tr>\n",
       "  </tbody>\n",
       "</table>\n",
       "<p>2688 rows × 9 columns</p>\n",
       "</div>"
      ],
      "text/plain": [
       "                                             image_path          LotNum Side  \\\n",
       "0     CSPAFI#4_198G2079-02-000_1_NG001_Panel0009_Pro...  198G2079-02-00    C   \n",
       "1     CSPAFI#4_198G2079-02-000_1_NG001_Panel0009_Pro...  198G2079-02-00    C   \n",
       "2     CSPAFI#4_198G2079-02-000_1_NG003_Panel0009_Pro...  198G2079-02-00    C   \n",
       "3     CSPAFI#4_198G2079-02-000_1_NG003_Panel0009_Pro...  198G2079-02-00    C   \n",
       "4     CSPAFI#4_198G2079-02-000_1_NG003_Panel0009_Pro...  198G2079-02-00    C   \n",
       "...                                                 ...             ...  ...   \n",
       "2683  CSPAFI-C#1_198N2108-01-000_1_NG010_Panel0019_P...  198N2108-01-00    C   \n",
       "2684  CSPAFI-C#1_198N2108-01-000_1_NG011_Panel0004_P...  198N2108-01-00    C   \n",
       "2685  CSPAFI-C#1_198N2108-01-000_1_NG011_Panel0019_P...  198N2108-01-00    C   \n",
       "2686  CSPAFI-C#1_198S2028-02-000_1_NG001_Panel0008_P...  198S2028-02-00    C   \n",
       "2687  CSPAFI-C#1_198S2028-02-000_1_NG001_Panel0015_P...  198S2028-02-00    C   \n",
       "\n",
       "      Step_Xvalue  Step_Yvalue  Unit_Xvalue  Unit_Yvalue     Machine    DAM  \n",
       "0          36.320       87.076       11.456        2.052    CSPAFI#4     Up  \n",
       "1          23.984      170.820       14.608       14.116    CSPAFI#4  Right  \n",
       "2          53.152        9.584       12.800        2.064    CSPAFI#4     Up  \n",
       "3          11.320        9.620        1.944        2.100    CSPAFI#4   Left  \n",
       "4          11.324      182.272        1.948       10.048    CSPAFI#4   Left  \n",
       "...           ...          ...          ...          ...         ...    ...  \n",
       "2683       31.228       24.948        6.364        1.940  CSPAFI-C#1     Up  \n",
       "2684       27.000      220.620        2.136        1.900  CSPAFI-C#1   Left  \n",
       "2685       32.592        9.464        7.728        1.944  CSPAFI-C#1     Up  \n",
       "2686       38.516       21.848       13.652       14.328  CSPAFI-C#1    Low  \n",
       "2687       73.292      130.824        1.932        5.096  CSPAFI-C#1   Left  \n",
       "\n",
       "[2688 rows x 9 columns]"
      ]
     },
     "execution_count": 178,
     "metadata": {},
     "output_type": "execute_result"
    }
   ],
   "source": [
    "mapcsv_dam"
   ]
  },
  {
   "cell_type": "code",
   "execution_count": 179,
   "metadata": {},
   "outputs": [],
   "source": [
    "mapcsv_dam['Label']='.'"
   ]
  },
  {
   "cell_type": "code",
   "execution_count": 180,
   "metadata": {},
   "outputs": [
    {
     "name": "stderr",
     "output_type": "stream",
     "text": [
      "/home/sasdemo01/anaconda3/envs/py3_6_6/lib/python3.6/site-packages/ipykernel_launcher.py:3: SettingWithCopyWarning: \n",
      "A value is trying to be set on a copy of a slice from a DataFrame\n",
      "\n",
      "See the caveats in the documentation: http://pandas.pydata.org/pandas-docs/stable/user_guide/indexing.html#returning-a-view-versus-a-copy\n",
      "  This is separate from the ipykernel package so we can avoid doing imports until\n",
      "/home/sasdemo01/anaconda3/envs/py3_6_6/lib/python3.6/site-packages/ipykernel_launcher.py:5: SettingWithCopyWarning: \n",
      "A value is trying to be set on a copy of a slice from a DataFrame\n",
      "\n",
      "See the caveats in the documentation: http://pandas.pydata.org/pandas-docs/stable/user_guide/indexing.html#returning-a-view-versus-a-copy\n",
      "  \"\"\"\n"
     ]
    }
   ],
   "source": [
    "for i in range(len(mapcsv_dam)):\n",
    "    if os.path.isfile(Training_Folder+\"OK/\"+mapcsv_dam.image_path[i]):\n",
    "        mapcsv_dam.Label[i]='OK'\n",
    "    elif os.path.isfile(Training_Folder+\"NG/\"+mapcsv_dam.image_path[i]):\n",
    "        mapcsv_dam.Label[i]='NG'"
   ]
  },
  {
   "cell_type": "code",
   "execution_count": 181,
   "metadata": {
    "scrolled": true
   },
   "outputs": [
    {
     "data": {
      "text/html": [
       "<div>\n",
       "<style scoped>\n",
       "    .dataframe tbody tr th:only-of-type {\n",
       "        vertical-align: middle;\n",
       "    }\n",
       "\n",
       "    .dataframe tbody tr th {\n",
       "        vertical-align: top;\n",
       "    }\n",
       "\n",
       "    .dataframe thead th {\n",
       "        text-align: right;\n",
       "    }\n",
       "</style>\n",
       "<table border=\"1\" class=\"dataframe\">\n",
       "  <thead>\n",
       "    <tr style=\"text-align: right;\">\n",
       "      <th></th>\n",
       "      <th>image_path</th>\n",
       "      <th>LotNum</th>\n",
       "      <th>Side</th>\n",
       "      <th>Step_Xvalue</th>\n",
       "      <th>Step_Yvalue</th>\n",
       "      <th>Unit_Xvalue</th>\n",
       "      <th>Unit_Yvalue</th>\n",
       "      <th>Machine</th>\n",
       "      <th>DAM</th>\n",
       "      <th>Label</th>\n",
       "    </tr>\n",
       "  </thead>\n",
       "  <tbody>\n",
       "    <tr>\n",
       "      <td>0</td>\n",
       "      <td>CSPAFI#4_198G2079-02-000_1_NG001_Panel0009_Pro...</td>\n",
       "      <td>198G2079-02-00</td>\n",
       "      <td>C</td>\n",
       "      <td>36.320</td>\n",
       "      <td>87.076</td>\n",
       "      <td>11.456</td>\n",
       "      <td>2.052</td>\n",
       "      <td>CSPAFI#4</td>\n",
       "      <td>Up</td>\n",
       "      <td>OK</td>\n",
       "    </tr>\n",
       "    <tr>\n",
       "      <td>1</td>\n",
       "      <td>CSPAFI#4_198G2079-02-000_1_NG001_Panel0009_Pro...</td>\n",
       "      <td>198G2079-02-00</td>\n",
       "      <td>C</td>\n",
       "      <td>23.984</td>\n",
       "      <td>170.820</td>\n",
       "      <td>14.608</td>\n",
       "      <td>14.116</td>\n",
       "      <td>CSPAFI#4</td>\n",
       "      <td>Right</td>\n",
       "      <td>OK</td>\n",
       "    </tr>\n",
       "    <tr>\n",
       "      <td>2</td>\n",
       "      <td>CSPAFI#4_198G2079-02-000_1_NG003_Panel0009_Pro...</td>\n",
       "      <td>198G2079-02-00</td>\n",
       "      <td>C</td>\n",
       "      <td>53.152</td>\n",
       "      <td>9.584</td>\n",
       "      <td>12.800</td>\n",
       "      <td>2.064</td>\n",
       "      <td>CSPAFI#4</td>\n",
       "      <td>Up</td>\n",
       "      <td>OK</td>\n",
       "    </tr>\n",
       "    <tr>\n",
       "      <td>3</td>\n",
       "      <td>CSPAFI#4_198G2079-02-000_1_NG003_Panel0009_Pro...</td>\n",
       "      <td>198G2079-02-00</td>\n",
       "      <td>C</td>\n",
       "      <td>11.320</td>\n",
       "      <td>9.620</td>\n",
       "      <td>1.944</td>\n",
       "      <td>2.100</td>\n",
       "      <td>CSPAFI#4</td>\n",
       "      <td>Left</td>\n",
       "      <td>OK</td>\n",
       "    </tr>\n",
       "    <tr>\n",
       "      <td>4</td>\n",
       "      <td>CSPAFI#4_198G2079-02-000_1_NG003_Panel0009_Pro...</td>\n",
       "      <td>198G2079-02-00</td>\n",
       "      <td>C</td>\n",
       "      <td>11.324</td>\n",
       "      <td>182.272</td>\n",
       "      <td>1.948</td>\n",
       "      <td>10.048</td>\n",
       "      <td>CSPAFI#4</td>\n",
       "      <td>Left</td>\n",
       "      <td>OK</td>\n",
       "    </tr>\n",
       "  </tbody>\n",
       "</table>\n",
       "</div>"
      ],
      "text/plain": [
       "                                          image_path          LotNum Side  \\\n",
       "0  CSPAFI#4_198G2079-02-000_1_NG001_Panel0009_Pro...  198G2079-02-00    C   \n",
       "1  CSPAFI#4_198G2079-02-000_1_NG001_Panel0009_Pro...  198G2079-02-00    C   \n",
       "2  CSPAFI#4_198G2079-02-000_1_NG003_Panel0009_Pro...  198G2079-02-00    C   \n",
       "3  CSPAFI#4_198G2079-02-000_1_NG003_Panel0009_Pro...  198G2079-02-00    C   \n",
       "4  CSPAFI#4_198G2079-02-000_1_NG003_Panel0009_Pro...  198G2079-02-00    C   \n",
       "\n",
       "   Step_Xvalue  Step_Yvalue  Unit_Xvalue  Unit_Yvalue   Machine    DAM Label  \n",
       "0       36.320       87.076       11.456        2.052  CSPAFI#4     Up    OK  \n",
       "1       23.984      170.820       14.608       14.116  CSPAFI#4  Right    OK  \n",
       "2       53.152        9.584       12.800        2.064  CSPAFI#4     Up    OK  \n",
       "3       11.320        9.620        1.944        2.100  CSPAFI#4   Left    OK  \n",
       "4       11.324      182.272        1.948       10.048  CSPAFI#4   Left    OK  "
      ]
     },
     "execution_count": 181,
     "metadata": {},
     "output_type": "execute_result"
    }
   ],
   "source": [
    "mapcsv_dam.head()"
   ]
  },
  {
   "cell_type": "markdown",
   "metadata": {},
   "source": [
    "# New Training Data without AVI Photos near DAM, \n",
    "# AVI list near DAM into csv"
   ]
  },
  {
   "cell_type": "code",
   "execution_count": 187,
   "metadata": {
    "scrolled": true
   },
   "outputs": [],
   "source": [
    "if os.path.exists(Train_no_DAM):\n",
    "    print('done')\n",
    "else:\n",
    "    os.mkdir(Train_no_DAM)\n",
    "    os.mkdir(Train_no_DAM+\"NG\")\n",
    "    os.mkdir(Train_no_DAM+\"OK\")"
   ]
  },
  {
   "cell_type": "code",
   "execution_count": 189,
   "metadata": {},
   "outputs": [],
   "source": [
    "mapcsv_dam.to_csv(Train_no_DAM+'DAM_LIST.csv', index=False)"
   ]
  },
  {
   "cell_type": "code",
   "execution_count": 205,
   "metadata": {},
   "outputs": [
    {
     "name": "stdout",
     "output_type": "stream",
     "text": [
      "4323 => 3443\n"
     ]
    }
   ],
   "source": [
    "NG_DAM=mapcsv_dam[mapcsv_dam['Label']=='NG']\n",
    "CNT_O=0\n",
    "CNT=0\n",
    "for file in glob.glob(os.path.join(Training_Folder+\"NG/\",\"*\")):\n",
    "    CNT_O=CNT_O+1\n",
    "    if file.split(\"/\")[-1] not in NG_DAM.values:\n",
    "        CNT=CNT+1\n",
    "        shutil.copy2(file,Train_no_DAM+\"NG/\")\n",
    "print(CNT_O,\"=>\",CNT)"
   ]
  },
  {
   "cell_type": "code",
   "execution_count": 206,
   "metadata": {},
   "outputs": [
    {
     "name": "stdout",
     "output_type": "stream",
     "text": [
      "3092 => 1284\n"
     ]
    }
   ],
   "source": [
    "OK_DAM=mapcsv_dam[mapcsv_dam['Label']=='OK']\n",
    "CNT_O=0\n",
    "CNT=0\n",
    "for file in glob.glob(os.path.join(Training_Folder+\"OK/\",\"*\")):\n",
    "    CNT_O=CNT_O+1\n",
    "    if file.split(\"/\")[-1] not in OK_DAM.values:\n",
    "        CNT=CNT+1\n",
    "        shutil.copy2(file,Train_no_DAM+\"OK/\")\n",
    "    \n",
    "print(CNT_O,\"=>\",CNT)"
   ]
  },
  {
   "cell_type": "code",
   "execution_count": 207,
   "metadata": {},
   "outputs": [
    {
     "data": {
      "text/plain": [
       "2688"
      ]
     },
     "execution_count": 207,
     "metadata": {},
     "output_type": "execute_result"
    }
   ],
   "source": [
    "4323 - 3443+3092 - 1284"
   ]
  },
  {
   "cell_type": "code",
   "execution_count": 208,
   "metadata": {},
   "outputs": [
    {
     "data": {
      "text/plain": [
       "2688"
      ]
     },
     "execution_count": 208,
     "metadata": {},
     "output_type": "execute_result"
    }
   ],
   "source": [
    "len(mapcsv_dam)"
   ]
  },
  {
   "cell_type": "code",
   "execution_count": null,
   "metadata": {},
   "outputs": [],
   "source": []
  }
 ],
 "metadata": {
  "kernelspec": {
   "display_name": "Python 3",
   "language": "python",
   "name": "python3"
  },
  "language_info": {
   "codemirror_mode": {
    "name": "ipython",
    "version": 3
   },
   "file_extension": ".py",
   "mimetype": "text/x-python",
   "name": "python",
   "nbconvert_exporter": "python",
   "pygments_lexer": "ipython3",
   "version": "3.6.6"
  }
 },
 "nbformat": 4,
 "nbformat_minor": 2
}
